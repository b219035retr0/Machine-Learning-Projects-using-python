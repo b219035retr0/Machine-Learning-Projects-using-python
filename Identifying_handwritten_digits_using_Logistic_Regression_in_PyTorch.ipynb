{
  "nbformat": 4,
  "nbformat_minor": 0,
  "metadata": {
    "colab": {
      "provenance": [],
      "authorship_tag": "ABX9TyMaTi3aE4o1MqgSyHvSHJLq"
    },
    "kernelspec": {
      "name": "python3",
      "display_name": "Python 3"
    },
    "language_info": {
      "name": "python"
    }
  },
  "cells": [
    {
      "cell_type": "markdown",
      "source": [
        "## Import the required library, functions and objects - Pytorch"
      ],
      "metadata": {
        "id": "WRAnPhPcpi5-"
      }
    },
    {
      "cell_type": "code",
      "execution_count": 1,
      "metadata": {
        "id": "tZGz-gijnZKx"
      },
      "outputs": [],
      "source": [
        "import torch\n",
        "import torch.nn as nn\n",
        "import torchvision.datasets as dsets\n",
        "import torchvision.transforms as transforms\n",
        "from torch.autograd import Variable"
      ]
    },
    {
      "cell_type": "markdown",
      "source": [
        "## Dataset Loader (Input Pipeline)"
      ],
      "metadata": {
        "id": "exsqH3lcn5wV"
      }
    },
    {
      "cell_type": "code",
      "source": [
        "train_dataset = dsets.MNIST(root ='./data',\n",
        "                            train = True,\n",
        "                            transform = transforms.ToTensor(),\n",
        "                            download = True)\n",
        "\n",
        "test_dataset = dsets.MNIST(root ='./data',\n",
        "                           train = False,\n",
        "                           transform = transforms.ToTensor())"
      ],
      "metadata": {
        "id": "Zzld6TsTnrNp"
      },
      "execution_count": 2,
      "outputs": []
    },
    {
      "cell_type": "markdown",
      "source": [
        "## Hyper Parameters"
      ],
      "metadata": {
        "id": "pahOIgVOseDH"
      }
    },
    {
      "cell_type": "code",
      "source": [
        "input_size = 784\n",
        "num_classes = 10\n",
        "num_epochs = 5\n",
        "batch_size = 100\n",
        "learning_rate = 0.001"
      ],
      "metadata": {
        "id": "V3rUmi0LsdZ4"
      },
      "execution_count": 3,
      "outputs": []
    },
    {
      "cell_type": "markdown",
      "source": [
        "## Data training - Logistic Regression"
      ],
      "metadata": {
        "id": "UIJrZMXTon-e"
      }
    },
    {
      "cell_type": "code",
      "source": [
        "train_loader = torch.utils.data.DataLoader(dataset = train_dataset,\n",
        "                                           batch_size = batch_size,\n",
        "                                           shuffle = True)\n",
        "\n",
        "test_loader = torch.utils.data.DataLoader(dataset = test_dataset,\n",
        "                                          batch_size = batch_size,\n",
        "                                          shuffle = False)"
      ],
      "metadata": {
        "id": "iQ4HD1ZSn4Ns"
      },
      "execution_count": 4,
      "outputs": []
    },
    {
      "cell_type": "code",
      "source": [
        "class LogisticRegression(nn.Module):\n",
        "    def __init__(self, input_size, num_classes):\n",
        "        super(LogisticRegression, self).__init__()\n",
        "        self.linear = nn.Linear(input_size, num_classes)\n",
        "\n",
        "    def forward(self, x):\n",
        "        out = self.linear(x)\n",
        "        return out"
      ],
      "metadata": {
        "id": "dSqpWrHUn8IG"
      },
      "execution_count": 5,
      "outputs": []
    },
    {
      "cell_type": "code",
      "source": [
        "model = LogisticRegression(input_size, num_classes)"
      ],
      "metadata": {
        "id": "LO3srsJvoN_o"
      },
      "execution_count": 6,
      "outputs": []
    },
    {
      "cell_type": "code",
      "source": [
        "criterion = nn.CrossEntropyLoss()\n",
        "optimizer = torch.optim.SGD(model.parameters(), lr = learning_rate)"
      ],
      "metadata": {
        "id": "J8ubbfW4oR9Z"
      },
      "execution_count": 7,
      "outputs": []
    },
    {
      "cell_type": "code",
      "source": [
        "for epoch in range(num_epochs):\n",
        "    for i, (images, labels) in enumerate(train_loader):\n",
        "        images = Variable(images.view(-1, 28 * 28))\n",
        "        labels = Variable(labels)\n",
        "        optimizer.zero_grad()\n",
        "        outputs = model(images)\n",
        "        loss = criterion(outputs, labels)\n",
        "        loss.backward()\n",
        "        optimizer.step()\n",
        "\n",
        "        if (i + 1) % 100 == 0:\n",
        "            print('Epoch: [% d/% d], Step: [% d/% d], Loss: %.4f'\n",
        "                  % (epoch + 1, num_epochs, i + 1,\n",
        "                     len(train_dataset) // batch_size, loss.data))"
      ],
      "metadata": {
        "colab": {
          "base_uri": "https://localhost:8080/"
        },
        "id": "aaxLt3floUTR",
        "outputId": "7c0d0f47-60f5-4c8b-e97f-8334d0a45c2a"
      },
      "execution_count": 8,
      "outputs": [
        {
          "output_type": "stream",
          "name": "stdout",
          "text": [
            "Epoch: [ 1/ 5], Step: [ 100/ 600], Loss: 2.2294\n",
            "Epoch: [ 1/ 5], Step: [ 200/ 600], Loss: 2.1406\n",
            "Epoch: [ 1/ 5], Step: [ 300/ 600], Loss: 2.0057\n",
            "Epoch: [ 1/ 5], Step: [ 400/ 600], Loss: 1.8981\n",
            "Epoch: [ 1/ 5], Step: [ 500/ 600], Loss: 1.8856\n",
            "Epoch: [ 1/ 5], Step: [ 600/ 600], Loss: 1.8231\n",
            "Epoch: [ 2/ 5], Step: [ 100/ 600], Loss: 1.7012\n",
            "Epoch: [ 2/ 5], Step: [ 200/ 600], Loss: 1.7237\n",
            "Epoch: [ 2/ 5], Step: [ 300/ 600], Loss: 1.5793\n",
            "Epoch: [ 2/ 5], Step: [ 400/ 600], Loss: 1.5484\n",
            "Epoch: [ 2/ 5], Step: [ 500/ 600], Loss: 1.5665\n",
            "Epoch: [ 2/ 5], Step: [ 600/ 600], Loss: 1.4217\n",
            "Epoch: [ 3/ 5], Step: [ 100/ 600], Loss: 1.4241\n",
            "Epoch: [ 3/ 5], Step: [ 200/ 600], Loss: 1.4467\n",
            "Epoch: [ 3/ 5], Step: [ 300/ 600], Loss: 1.3303\n",
            "Epoch: [ 3/ 5], Step: [ 400/ 600], Loss: 1.3264\n",
            "Epoch: [ 3/ 5], Step: [ 500/ 600], Loss: 1.3389\n",
            "Epoch: [ 3/ 5], Step: [ 600/ 600], Loss: 1.1907\n",
            "Epoch: [ 4/ 5], Step: [ 100/ 600], Loss: 1.2417\n",
            "Epoch: [ 4/ 5], Step: [ 200/ 600], Loss: 1.2632\n",
            "Epoch: [ 4/ 5], Step: [ 300/ 600], Loss: 1.1888\n",
            "Epoch: [ 4/ 5], Step: [ 400/ 600], Loss: 1.1134\n",
            "Epoch: [ 4/ 5], Step: [ 500/ 600], Loss: 1.1658\n",
            "Epoch: [ 4/ 5], Step: [ 600/ 600], Loss: 1.0927\n",
            "Epoch: [ 5/ 5], Step: [ 100/ 600], Loss: 1.0165\n",
            "Epoch: [ 5/ 5], Step: [ 200/ 600], Loss: 1.0207\n",
            "Epoch: [ 5/ 5], Step: [ 300/ 600], Loss: 1.0548\n",
            "Epoch: [ 5/ 5], Step: [ 400/ 600], Loss: 1.0947\n",
            "Epoch: [ 5/ 5], Step: [ 500/ 600], Loss: 1.0837\n",
            "Epoch: [ 5/ 5], Step: [ 600/ 600], Loss: 0.9838\n"
          ]
        }
      ]
    },
    {
      "cell_type": "markdown",
      "source": [
        "## Testing the Model"
      ],
      "metadata": {
        "id": "Co-C0Q2UpS3-"
      }
    },
    {
      "cell_type": "code",
      "source": [
        "correct = 0\n",
        "total = 0\n",
        "for images, labels in test_loader:\n",
        "    images = Variable(images.view(-1, 28 * 28))\n",
        "    outputs = model(images)\n",
        "    _, predicted = torch.max(outputs.data, 1)\n",
        "    total += labels.size(0)\n",
        "    correct += (predicted == labels).sum()\n",
        "\n",
        "print('Accuracy of the model on the 10000 test images: % d %%' % (\n",
        "            100 * correct / total))"
      ],
      "metadata": {
        "colab": {
          "base_uri": "https://localhost:8080/"
        },
        "id": "ROaNBpeooux9",
        "outputId": "1f3207df-e547-4af1-dcad-9589b63cc408"
      },
      "execution_count": 9,
      "outputs": [
        {
          "output_type": "stream",
          "name": "stdout",
          "text": [
            "Accuracy of the model on the 10000 test images:  82 %\n"
          ]
        }
      ]
    }
  ]
}